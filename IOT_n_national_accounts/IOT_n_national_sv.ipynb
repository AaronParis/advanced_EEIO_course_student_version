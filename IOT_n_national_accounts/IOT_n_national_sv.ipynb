{
 "cells": [
  {
   "cell_type": "markdown",
   "id": "93ed8f12-cfff-4c86-8a77-0d0870a7be97",
   "metadata": {},
   "source": [
    "# Practical 1: IOT and National Accounts\n",
    "In this exercise, you will practice how to apply the three methods to calculate national GDP, using different databases and years.  \n",
    "While the exercise is quantitive, try to reason about differences and implications of the methods as well as results from the method application."
   ]
  },
  {
   "cell_type": "markdown",
   "id": "06dfb2a3-8454-4cab-9137-0f0cc247b4d3",
   "metadata": {},
   "source": [
    "### Learning goals\n",
    "\n",
    "- Analysing GDP trends\n",
    "- Implementing GDP calculation methods in different contexts\n",
    "- Understanding the data structure difference between SNA and IO tables \n",
    "- Understanding the implications of quantitative results"
   ]
  },
  {
   "cell_type": "markdown",
   "id": "8ee1b689-c727-4b94-9c06-8212dc47c246",
   "metadata": {},
   "source": [
    "### Instructions\n",
    "\n",
    "Data should be downloaded into a data/ folder in the same directory your module is, then it should be loaded and plotted in python\n",
    "\n",
    "- Data source 1: eurostat, national accounts, main GDP aggregates https://ec.europa.eu/eurostat/web/national-accounts/database\n",
    "\n",
    "- Data source 2: CBS https://www.cbs.nl/-/media/_excel/2022/27/83-inputoutput-tables-20152021.xlsx\n",
    "\n",
    "Obtain, plot, and analyze the GDP time series for all years available"
   ]
  },
  {
   "cell_type": "markdown",
   "id": "1aaeffd1-b07a-41d1-8c07-f5e346518176",
   "metadata": {},
   "source": [
    "## Exercise 1\n",
    "Using the EUROSTAT data plot a graph showing the yearly GDP change using the following approaches\n",
    "\n",
    "- expenditure perspective (GDP = Consumption + Investment + Government Spending + Net Export)\n",
    "- production perspective (GDP = Sum of all value added of all production activities)\n",
    "- income perspective (GDP = Total National Income + Sales Taxes + Depreciation + Net Foreign Factor Income)\n",
    "\n",
    "Make sure to use the metadata accompanying the data to help you understand all data available within the CSV file and the GDP elements https://ec.europa.eu/eurostat/cache/metadata/en/nama10_esms.htm\n",
    "\n",
    "Tip: if you download csv.gz data this is CSV data that has been compressed. You can import it directly into python by using the \"compression\" argument in the method pd.read_csv()     "
   ]
  },
  {
   "cell_type": "code",
   "execution_count": 4,
   "id": "89a776a4-3fd8-46c1-9940-53765b5dcbad",
   "metadata": {},
   "outputs": [
    {
     "name": "stdout",
     "output_type": "stream",
     "text": [
      "Index(['freq', 'unit', 'na_item',\n",
      "       'geo\\TIME_PERIOD\\t1975 \\t1976 \\t1977 \\t1978 \\t1979 \\t1980 \\t1981 \\t1982 \\t1983 \\t1984 \\t1985 \\t1986 \\t1987 \\t1988 \\t1989 \\t1990 \\t1991 \\t1992 \\t1993 \\t1994 \\t1995 \\t1996 \\t1997 \\t1998 \\t1999 \\t2000 \\t2001 \\t2002 \\t2003 \\t2004 \\t2005 \\t2006 \\t2007 \\t2008 \\t2009 \\t2010 \\t2011 \\t2012 \\t2013 \\t2014 \\t2015 \\t2016 \\t2017 \\t2018 \\t2019 \\t2020 \\t2021 \\t2022 \\t2023 '],\n",
      "      dtype='object')\n"
     ]
    }
   ],
   "source": [
    "# import modules\n",
    "import pandas as pd\n",
    "import matplotlib.pyplot as plt\n",
    "from matplotlib import style\n",
    "plt.style.use('bmh')\n",
    "\n",
    "# Import data\n",
    "# replace None with the rest of the function to load the data \n",
    "GDP_data = pd.read_csv(\"data/estat_nama_10_gdp.tsv.gz\", compression=\"gzip\")\n",
    "\n",
    "# We are only interested in data in euros so make sure you slice the right currency\n",
    "GDP_data = GDP_data[GDP_data.unit == \"CP_MEUR\"] \n",
    "\n",
    "# print the columns, it will help you understand how you can proceed in selecting the data\n",
    "print(GDP_data.columns)"
   ]
  },
  {
   "cell_type": "markdown",
   "id": "e0d6d14b-0df0-43a8-85ed-3757dafa5cc7",
   "metadata": {},
   "source": [
    "**Print all unique values in the National Account Item column (na_item) to use as a reference**\n",
    "\n",
    "You can investigate what each code means by checking the vocabulary on the European Environment Agency website \n",
    "\n",
    "https://dd.eionet.europa.eu/vocabulary/eurostat/na_item/view\n",
    "\n",
    "or you can check the statistical terms glossary for full definitions\n",
    "\n",
    "https://data.un.org/Glossary.aspx"
   ]
  },
  {
   "cell_type": "code",
   "execution_count": 5,
   "id": "de4aa089-5c9d-4f22-92c8-90d1f73e45bf",
   "metadata": {},
   "outputs": [
    {
     "name": "stdout",
     "output_type": "stream",
     "text": [
      "['B11' 'B111' 'B112' 'B1G' 'B1GQ' 'B2A3G' 'D1' 'D11' 'D12' 'D2' 'D21'\n",
      " 'D21X31' 'D2X3' 'D3' 'D31' 'P3' 'P31_S13' 'P31_S14' 'P31_S14_S15'\n",
      " 'P31_S15' 'P32_S13' 'P3_P5' 'P3_P6' 'P3_S13' 'P41' 'P51G' 'P52' 'P52_P53'\n",
      " 'P53' 'P5G' 'P6' 'P61' 'P62' 'P7' 'P71' 'P72' 'YA0' 'YA1' 'YA2']\n"
     ]
    }
   ],
   "source": [
    "print(GDP_data['na_item'].unique())"
   ]
  },
  {
   "cell_type": "markdown",
   "id": "1742f376",
   "metadata": {},
   "source": [
    "#### Create a dictionary in which you will store your GDP results for comparison"
   ]
  },
  {
   "cell_type": "code",
   "execution_count": 6,
   "id": "6b6d5aaa",
   "metadata": {},
   "outputs": [],
   "source": [
    "NA_GDP_approaches_results = {\"income\": None, \"expenditure\": None, \"production\": None}"
   ]
  },
  {
   "cell_type": "markdown",
   "id": "d43256af",
   "metadata": {},
   "source": [
    "#### Income approach\n",
    "\n",
    "Isolate all data for the income approach:\n",
    "- comp_employees = \"D1\"\n",
    "- Gross operating surplus and mixed income = \"B2A3G\" \n",
    "    - gross_operating_surplus = \"B2G\"\n",
    "    - mixed_income = \"B3G\"\n",
    "- taxes less subsidies on production and imports (D2X3)\n",
    "    - taxes_less_subsidies = \"D2\"\n",
    "    - imports = \"D3\"\n"
   ]
  },
  {
   "cell_type": "code",
   "execution_count": 7,
   "id": "342a2a9e",
   "metadata": {},
   "outputs": [],
   "source": [
    "# select national account codes to be isolated in the data \n",
    "# select national account codes to be isolated in the data \n",
    "breakdown_income = [\"D1\", \"B2A3G\", \"D2X3\"]\n",
    "\n",
    "# Check wether all the items are available in the GDP breakdown csv\n",
    "for bi in breakdown_income:\n",
    "    if bi not in GDP_data.na_item.unique():\n",
    "        print(bi)\n",
    "# Check wether all the items are available in the GDP breakdown csv"
   ]
  },
  {
   "cell_type": "code",
   "execution_count": 9,
   "id": "adcdf780",
   "metadata": {},
   "outputs": [
    {
     "ename": "TypeError",
     "evalue": "no numeric data to plot",
     "output_type": "error",
     "traceback": [
      "\u001b[1;31m---------------------------------------------------------------------------\u001b[0m",
      "\u001b[1;31mTypeError\u001b[0m                                 Traceback (most recent call last)",
      "Cell \u001b[1;32mIn[9], line 3\u001b[0m\n\u001b[0;32m      1\u001b[0m \u001b[38;5;66;03m# organize and plot your results for the income approach\u001b[39;00m\n\u001b[0;32m      2\u001b[0m GDP_income \u001b[38;5;241m=\u001b[39m GDP_data[GDP_data[\u001b[38;5;124m'\u001b[39m\u001b[38;5;124mna_item\u001b[39m\u001b[38;5;124m'\u001b[39m]\u001b[38;5;241m.\u001b[39misin(breakdown_income)]\n\u001b[1;32m----> 3\u001b[0m \u001b[43mGDP_income\u001b[49m\u001b[38;5;241;43m.\u001b[39;49m\u001b[43mplot\u001b[49m\u001b[43m(\u001b[49m\u001b[43m)\u001b[49m\n",
      "File \u001b[1;32m~\\anaconda3\\lib\\site-packages\\pandas\\plotting\\_core.py:975\u001b[0m, in \u001b[0;36mPlotAccessor.__call__\u001b[1;34m(self, *args, **kwargs)\u001b[0m\n\u001b[0;32m    972\u001b[0m             label_name \u001b[38;5;241m=\u001b[39m label_kw \u001b[38;5;129;01mor\u001b[39;00m data\u001b[38;5;241m.\u001b[39mcolumns\n\u001b[0;32m    973\u001b[0m             data\u001b[38;5;241m.\u001b[39mcolumns \u001b[38;5;241m=\u001b[39m label_name\n\u001b[1;32m--> 975\u001b[0m \u001b[38;5;28;01mreturn\u001b[39;00m plot_backend\u001b[38;5;241m.\u001b[39mplot(data, kind\u001b[38;5;241m=\u001b[39mkind, \u001b[38;5;241m*\u001b[39m\u001b[38;5;241m*\u001b[39mkwargs)\n",
      "File \u001b[1;32m~\\anaconda3\\lib\\site-packages\\pandas\\plotting\\_matplotlib\\__init__.py:71\u001b[0m, in \u001b[0;36mplot\u001b[1;34m(data, kind, **kwargs)\u001b[0m\n\u001b[0;32m     69\u001b[0m         kwargs[\u001b[38;5;124m\"\u001b[39m\u001b[38;5;124max\u001b[39m\u001b[38;5;124m\"\u001b[39m] \u001b[38;5;241m=\u001b[39m \u001b[38;5;28mgetattr\u001b[39m(ax, \u001b[38;5;124m\"\u001b[39m\u001b[38;5;124mleft_ax\u001b[39m\u001b[38;5;124m\"\u001b[39m, ax)\n\u001b[0;32m     70\u001b[0m plot_obj \u001b[38;5;241m=\u001b[39m PLOT_CLASSES[kind](data, \u001b[38;5;241m*\u001b[39m\u001b[38;5;241m*\u001b[39mkwargs)\n\u001b[1;32m---> 71\u001b[0m \u001b[43mplot_obj\u001b[49m\u001b[38;5;241;43m.\u001b[39;49m\u001b[43mgenerate\u001b[49m\u001b[43m(\u001b[49m\u001b[43m)\u001b[49m\n\u001b[0;32m     72\u001b[0m plot_obj\u001b[38;5;241m.\u001b[39mdraw()\n\u001b[0;32m     73\u001b[0m \u001b[38;5;28;01mreturn\u001b[39;00m plot_obj\u001b[38;5;241m.\u001b[39mresult\n",
      "File \u001b[1;32m~\\anaconda3\\lib\\site-packages\\pandas\\plotting\\_matplotlib\\core.py:446\u001b[0m, in \u001b[0;36mMPLPlot.generate\u001b[1;34m(self)\u001b[0m\n\u001b[0;32m    444\u001b[0m \u001b[38;5;28;01mdef\u001b[39;00m \u001b[38;5;21mgenerate\u001b[39m(\u001b[38;5;28mself\u001b[39m) \u001b[38;5;241m-\u001b[39m\u001b[38;5;241m>\u001b[39m \u001b[38;5;28;01mNone\u001b[39;00m:\n\u001b[0;32m    445\u001b[0m     \u001b[38;5;28mself\u001b[39m\u001b[38;5;241m.\u001b[39m_args_adjust()\n\u001b[1;32m--> 446\u001b[0m     \u001b[38;5;28;43mself\u001b[39;49m\u001b[38;5;241;43m.\u001b[39;49m\u001b[43m_compute_plot_data\u001b[49m\u001b[43m(\u001b[49m\u001b[43m)\u001b[49m\n\u001b[0;32m    447\u001b[0m     \u001b[38;5;28mself\u001b[39m\u001b[38;5;241m.\u001b[39m_setup_subplots()\n\u001b[0;32m    448\u001b[0m     \u001b[38;5;28mself\u001b[39m\u001b[38;5;241m.\u001b[39m_make_plot()\n",
      "File \u001b[1;32m~\\anaconda3\\lib\\site-packages\\pandas\\plotting\\_matplotlib\\core.py:632\u001b[0m, in \u001b[0;36mMPLPlot._compute_plot_data\u001b[1;34m(self)\u001b[0m\n\u001b[0;32m    630\u001b[0m \u001b[38;5;66;03m# no non-numeric frames or series allowed\u001b[39;00m\n\u001b[0;32m    631\u001b[0m \u001b[38;5;28;01mif\u001b[39;00m is_empty:\n\u001b[1;32m--> 632\u001b[0m     \u001b[38;5;28;01mraise\u001b[39;00m \u001b[38;5;167;01mTypeError\u001b[39;00m(\u001b[38;5;124m\"\u001b[39m\u001b[38;5;124mno numeric data to plot\u001b[39m\u001b[38;5;124m\"\u001b[39m)\n\u001b[0;32m    634\u001b[0m \u001b[38;5;28mself\u001b[39m\u001b[38;5;241m.\u001b[39mdata \u001b[38;5;241m=\u001b[39m numeric_data\u001b[38;5;241m.\u001b[39mapply(\u001b[38;5;28mself\u001b[39m\u001b[38;5;241m.\u001b[39m_convert_to_ndarray)\n",
      "\u001b[1;31mTypeError\u001b[0m: no numeric data to plot"
     ]
    }
   ],
   "source": [
    "# organize and plot your results for the income approach\n",
    "GDP_income = GDP_data[GDP_data['na_item'].isin(breakdown_income)]\n",
    "for country in GDP_income.geo.unique(): \n",
    "    \n"
   ]
  },
  {
   "cell_type": "markdown",
   "id": "0e13244c",
   "metadata": {
    "slideshow": {
     "slide_type": "slide"
    }
   },
   "source": [
    "#### Expenditure approach\n",
    "Isolate all data for the expenditure approach:\n",
    "- final_consumption = \"P3\"\n",
    "- gross_fixed_capital_form = \"P51\"\n",
    "- changes_in_inventories = \"P52\"\n",
    "- acquisition_less_disposal_of_val = \"P53\"\n",
    "- exports = \"P6\"\n",
    "- imports = \"P7\""
   ]
  },
  {
   "cell_type": "code",
   "execution_count": null,
   "id": "febb2ccf",
   "metadata": {},
   "outputs": [],
   "source": [
    "# select national account codes to be isolated in the data \n",
    "\n",
    "\n",
    "# Check wether all the items are available in the GDP breakdown csv"
   ]
  },
  {
   "cell_type": "code",
   "execution_count": null,
   "id": "00a59880",
   "metadata": {},
   "outputs": [],
   "source": [
    "\n",
    "# organize and plot your results for the expenditure approach\n"
   ]
  },
  {
   "cell_type": "markdown",
   "id": "c954b3de",
   "metadata": {},
   "source": [
    "#### Production approach\n",
    "\n",
    "Isolate all data for the production approach:\n",
    "- total_gross_value_added = \"B1G\"\n",
    "- taxes_on_products = \"D21\"\n",
    "- subsidies = \"D31\"\n"
   ]
  },
  {
   "cell_type": "code",
   "execution_count": null,
   "id": "2d8c9bae",
   "metadata": {},
   "outputs": [],
   "source": [
    "# select national account codes to be isolated in the data \n",
    "\n",
    "\n",
    "# Check wether all the items are available in the GDP breakdown csv\n",
    "\n"
   ]
  },
  {
   "cell_type": "code",
   "execution_count": null,
   "id": "20d14d57",
   "metadata": {},
   "outputs": [],
   "source": [
    "\n",
    "# organize and plot your results for the production approach\n",
    "\n",
    "    "
   ]
  },
  {
   "cell_type": "markdown",
   "id": "6b504c1d",
   "metadata": {},
   "source": [
    "#### Check your results\n",
    "You don't have to check every single entry, just select one country for each approach, \"NL\" is fine too "
   ]
  },
  {
   "cell_type": "code",
   "execution_count": null,
   "id": "bce4aa27",
   "metadata": {},
   "outputs": [],
   "source": []
  },
  {
   "cell_type": "markdown",
   "id": "2f0fdec0-964b-442a-9689-32403f186e87",
   "metadata": {},
   "source": [
    "## Exercise 2\n",
    "\n",
    "Using the CBS data calculate the total GDP total and its composition using the three approaches\n",
    "\n",
    "Methods can be found using the following link in the file \"2 Macroeconomic totals.xlsx\" \n",
    "\n",
    "https://www.cbs.nl/en-gb/custom/2022/27/national-accounts-2021-tables\n",
    "\n",
    "Tip: once you download the data have a good look at how it is structure, how the labels are organized.\n",
    "\n",
    "In order to better understand how GDP can be calculated in IOTs, use the EUROSTAT manual table 11.6 on page 305\n",
    "\n",
    "\n",
    "![image](./figures/IOT_basic_price.PNG)\n"
   ]
  },
  {
   "cell_type": "code",
   "execution_count": 15,
   "id": "f4158925-2d16-4901-a5f1-08c422e976aa",
   "metadata": {},
   "outputs": [
    {
     "name": "stdout",
     "output_type": "stream",
     "text": [
      "IO-table 2015 current prices\n",
      "IO-table 2016 current prices\n",
      "IO-table 2016 PY prices\n",
      "IO-table 2017 current prices\n",
      "IO-table 2017 PY prices\n",
      "IO-table 2018 current prices\n",
      "IO-table 2018 PY prices\n",
      "IO-table 2019 current prices\n",
      "IO-table 2019 PY prices\n",
      "IO-table 2020 current prices\n",
      "IO-table 2020 PY prices\n",
      "IO-table 2021 current prices\n",
      "IO-table 2021 PY prices\n",
      "Explanation\n"
     ]
    }
   ],
   "source": [
    "# Load the IO data\n",
    "CBS_IO = pd.ExcelFile(f\"data/83 InputOutput tables 20152021.xlsx\", engine=\"openpyxl\")\n",
    "\n",
    "\n",
    "# Print the list of sheets that are available in the xlsx file so that you can investigate what options you have\n",
    "print(*CBS_IO.sheet_names, sep=\"\\n\")"
   ]
  },
  {
   "cell_type": "markdown",
   "id": "38883649",
   "metadata": {},
   "source": [
    "#### Parse your data"
   ]
  },
  {
   "cell_type": "code",
   "execution_count": null,
   "id": "9a38df65",
   "metadata": {},
   "outputs": [],
   "source": [
    "# Parse the sheet for 2021 in current prices\n",
    "IO_2021_cp = None\n",
    "# Fill nan values\n",
    "\n",
    "# Labels sometimes have leading and trailing white spaces which makes it difficult to then slice the dataframe\n",
    "\n",
    "# There could also be errors in labels, always check. It won't matter for this exercise but keep in mind for the future. \n",
    "# Examples of mistakes are typos, wrong translaction, encoding issues \n",
    "\n",
    "# Negative items\n",
    "# Makes sure that the items marked with a negative sign in their labels are indeed negative\n",
    "\n",
    "\n",
    "# Print the columns and index to understand how the data is structured\n"
   ]
  },
  {
   "cell_type": "markdown",
   "id": "1bccece1",
   "metadata": {},
   "source": [
    "#### Perfom some checks\n",
    "Before we begin working with the data, we typically want to perform some data sanity checks. \n",
    "We will only perform one check in this exercise, keeping in mind, however, that in most cases one needs to perform quite thorough cleaning (e.g., check for NaNs, decimal separators). \n",
    "\n",
    "\n",
    "Check that the total inputs are equal to the total outputs"
   ]
  },
  {
   "cell_type": "code",
   "execution_count": null,
   "id": "8a282134",
   "metadata": {},
   "outputs": [],
   "source": [
    "# Check inputs and outputs\n",
    "total_inputs = None\n",
    "total_outputs = None\n",
    "\n",
    "print(f\"Inputs and Outputs match: {total_inputs/total_outputs*100}%\")"
   ]
  },
  {
   "cell_type": "markdown",
   "id": "d8a79623",
   "metadata": {},
   "source": [
    "#### Create a dictionary in which you will store your results to be later compared"
   ]
  },
  {
   "cell_type": "code",
   "execution_count": null,
   "id": "1f5fc6ef",
   "metadata": {},
   "outputs": [],
   "source": [
    "IO_GDP_approaches_results = {\"production\": None, \"income\": None, \"expenditure\": None}"
   ]
  },
  {
   "cell_type": "code",
   "execution_count": null,
   "id": "f30c17da-c367-4094-9b51-86ad2756dee9",
   "metadata": {},
   "outputs": [],
   "source": [
    "# Production perspective\n",
    "\n",
    "production_items = None\n",
    "\n",
    "prod_approach_breakdown = None\n",
    "\n",
    "IO_GDP_approaches_results[\"production\"] = prod_approach_breakdown.values.sum()\n",
    "IO_GDP_approaches_results[\"production\"]\n"
   ]
  },
  {
   "cell_type": "markdown",
   "id": "324fa8c8",
   "metadata": {},
   "source": [
    "**But wait! What is the value that we obtained from Eurostat and that we see in the macro economic totals documentation of CBS?**"
   ]
  },
  {
   "cell_type": "markdown",
   "id": "86140cd0",
   "metadata": {},
   "source": [
    "In the CBS IOTs, value added is reported at basic price. We need to add taxes and subtract subsidies to obtain the actual GDP"
   ]
  },
  {
   "cell_type": "code",
   "execution_count": null,
   "id": "96dae8ff",
   "metadata": {},
   "outputs": [],
   "source": [
    "# From value added at basic price to actual GDP\n",
    "taxes_less_subsidies_items = None\n",
    "\n",
    "taxes_less_subsidies = None\n",
    "\n",
    "# Add taxes less subsidies\n",
    "IO_GDP_approaches_results[\"production\"] = None\n",
    "IO_GDP_approaches_results[\"production\"]"
   ]
  },
  {
   "cell_type": "code",
   "execution_count": null,
   "id": "7a386c66-b7a8-4be5-8c33-713c682ebb99",
   "metadata": {},
   "outputs": [],
   "source": [
    "# Income perspective\n",
    "\n",
    "income_items = None\n",
    "\n",
    "income_breakdown = IO_2021_cp.loc[income_items]\n",
    "\n",
    "# We need to drop the aggregate and totals so that we don't double count \n",
    "income_breakdown = None\n",
    "\n",
    "IO_GDP_approaches_results[\"income\"] = income_breakdown.values.sum()\n",
    "\n",
    "IO_GDP_approaches_results[\"income\"]"
   ]
  },
  {
   "cell_type": "code",
   "execution_count": null,
   "id": "cac67f38",
   "metadata": {},
   "outputs": [],
   "source": [
    "# Expenditure perspective\n",
    "\n",
    "expenditure_items = None\n",
    "\n",
    "imports_items = None\n",
    "\n",
    "expenditure_breakdown = IO_2021_cp.loc[:, expenditure_items]\n",
    "\n",
    "# we eliminate the rows with aggregates and totals\n",
    "expenditure_breakdown = expenditure_breakdown.drop([\"Total of rows (1–81)\", \"Total intermediate consumption (82–90)\", \"Total\", \"Value added at basic prices (92–96)\"], axis=0)\n",
    "\n",
    "# We sum all imports to be substracted\n",
    "imports_Z = None\n",
    "imports_Y = None\n",
    "tot_imports = imports_Z + imports_Y\n",
    "\n",
    "# Subtract imports from expenditure\n",
    "IO_GDP_approaches_results[\"expenditure\"] = None\n",
    "IO_GDP_approaches_results[\"expenditure\"]\n"
   ]
  },
  {
   "cell_type": "code",
   "execution_count": null,
   "id": "36be71bb",
   "metadata": {},
   "outputs": [],
   "source": [
    "# Calculate the production perspective use the Value added row\n",
    "# we use the value added row provided by the table as a reference to see whether our calculations are correct\n",
    "value_added = IO_2021_cp.loc[\"Value added at basic prices (92–96)\" , :\"Goods and services n.e.c.\"]\n",
    "VA_total = value_added.values.sum() + taxes_less_subsidies.values.sum()\n",
    "\n",
    "for l in IO_GDP_approaches_results:\n",
    "    print(f\"{l} approach results: {IO_GDP_approaches_results[l]} results are off by {round((1-VA_total/IO_GDP_approaches_results[l])*100)}%\")\n"
   ]
  }
 ],
 "metadata": {
  "kernelspec": {
   "display_name": "Python 3 (ipykernel)",
   "language": "python",
   "name": "python3"
  },
  "language_info": {
   "codemirror_mode": {
    "name": "ipython",
    "version": 3
   },
   "file_extension": ".py",
   "mimetype": "text/x-python",
   "name": "python",
   "nbconvert_exporter": "python",
   "pygments_lexer": "ipython3",
   "version": "3.9.16"
  },
  "vscode": {
   "interpreter": {
    "hash": "e7370f93d1d0cde622a1f8e1c04877d8463912d04d973331ad4851f04de6915a"
   }
  }
 },
 "nbformat": 4,
 "nbformat_minor": 5
}
