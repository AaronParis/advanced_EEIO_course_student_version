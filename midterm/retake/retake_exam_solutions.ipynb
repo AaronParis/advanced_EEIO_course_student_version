{
 "cells": [
  {
   "attachments": {},
   "cell_type": "markdown",
   "metadata": {
    "slideshow": {
     "slide_type": "slide"
    }
   },
   "source": [
    "# Retake exam: 20 June 2023\n",
    "\n",
    "## Topic of the exam: Understand top players of global land use and CO2 emissions \n",
    "\n",
    "Please ensure that you run each cell (ctrl+enter) so that your inputs are saved \n",
    "\n",
    "All questions have either coding cell or a text cell, or a combination of the two. \n",
    "\n",
    "You are allowed to create additional cells for each answer to facilitate your work  "
   ]
  },
  {
   "attachments": {},
   "cell_type": "markdown",
   "metadata": {
    "slideshow": {
     "slide_type": "slide"
    }
   },
   "source": [
    "## Data preparation: Download and import exiobase"
   ]
  },
  {
   "attachments": {},
   "cell_type": "markdown",
   "metadata": {},
   "source": [
    "Data to be used in the exam: **year 2019 product by product format**\n",
    "\n",
    "Population data to be downloaded together with the script\n",
    "\n",
    "Link to the data: https://zenodo.org/record/5589597"
   ]
  },
  {
   "cell_type": "code",
   "execution_count": 1,
   "metadata": {
    "slideshow": {
     "slide_type": "fragment"
    }
   },
   "outputs": [],
   "source": [
    "# Import modules\n",
    "import pandas as pd\n",
    "import numpy as np"
   ]
  },
  {
   "cell_type": "code",
   "execution_count": 2,
   "metadata": {
    "slideshow": {
     "slide_type": "subslide"
    }
   },
   "outputs": [],
   "source": [
    "# Import here your data\n",
    "path = \"../data/IOT_2019_pxp/\"\n",
    "A = pd.read_csv(f'{path}A.txt', sep='\\t', index_col=[0, 1], header=[0, 1])\n",
    "Y = pd.read_csv(f'{path}Y.txt' , sep='\\t', index_col=[0, 1], header=[0, 1])"
   ]
  },
  {
   "cell_type": "code",
   "execution_count": 3,
   "metadata": {},
   "outputs": [],
   "source": [
    "# Import satellite accounts\n",
    "F_sat = pd.read_csv(f'{path}satellite/F.txt' , sep='\\t', index_col=[0], header=[0, 1])\n",
    "F_sat_hh = pd.read_csv(f'{path}satellite/F_y.txt' , sep='\\t', index_col=[0], header=[0, 1])"
   ]
  },
  {
   "cell_type": "code",
   "execution_count": 4,
   "metadata": {},
   "outputs": [],
   "source": [
    "# Import impact accounts\n",
    "F_imp = pd.read_csv(f'{path}impacts/F.txt' , sep='\\t', index_col=[0], header=[0, 1])\n",
    "F_imp_hh = pd.read_csv(f'{path}impacts/F_y.txt' , sep='\\t', index_col=[0], header=[0, 1])"
   ]
  },
  {
   "cell_type": "code",
   "execution_count": 5,
   "metadata": {},
   "outputs": [],
   "source": [
    "pp_data = pd.read_excel('../data/exiobase_PopulationGDP_1995_2019.xlsx',sheet_name='Population', index_col=[0, 1, 2])\n",
    "\n",
    "pp_2019 = pp_data.y2019"
   ]
  },
  {
   "attachments": {},
   "cell_type": "markdown",
   "metadata": {
    "slideshow": {
     "slide_type": "slide"
    }
   },
   "source": [
    "## Question 1: Territorial accounting (10 points)"
   ]
  },
  {
   "attachments": {},
   "cell_type": "markdown",
   "metadata": {
    "slideshow": {
     "slide_type": "fragment"
    }
   },
   "source": [
    "### Q1.1 Can you identify the top 3 countries with the highest per capita domestic land use in 2019? (10 points) \n",
    "\n",
    "Hint 1: use the environmental impact with keywords: \"Land use Crop, Forest, Pasture\"\n",
    "\n",
    "Hint 2: when loc returns a DataFrame instead of a Series you can use .squeeze() to obtain the Series"
   ]
  },
  {
   "cell_type": "code",
   "execution_count": 6,
   "metadata": {},
   "outputs": [],
   "source": [
    "first_indicator = \"Land use Crop, Forest, Pasture\""
   ]
  },
  {
   "cell_type": "code",
   "execution_count": 7,
   "metadata": {},
   "outputs": [],
   "source": [
    "F_1_ = F_imp.loc[F_imp.index.str.contains(first_indicator),:].squeeze()\n",
    "F_1_hh = F_imp_hh.loc[F_imp_hh.index.str.contains(first_indicator),:].squeeze()\n",
    "F_1_tot_ter = F_1_.groupby(axis=0, level=0, sort=False).sum() + F_1_hh.groupby(axis=0, level=0, sort=False).sum()"
   ]
  },
  {
   "cell_type": "code",
   "execution_count": 8,
   "metadata": {},
   "outputs": [
    {
     "data": {
      "text/plain": [
       "region\n",
       "AU    0.095712\n",
       "CA    0.059431\n",
       "LV    0.045612\n",
       "Name: Land use Crop, Forest, Pasture, dtype: float64"
      ]
     },
     "execution_count": 8,
     "metadata": {},
     "output_type": "execute_result"
    }
   ],
   "source": [
    "F_1_pp = F_1_tot_ter/pp_2019.values\n",
    "F_1_pp.sort_values(ascending=False).head(3)"
   ]
  },
  {
   "attachments": {},
   "cell_type": "markdown",
   "metadata": {},
   "source": [
    "## Question 2: Footprint analysis (10 points)"
   ]
  },
  {
   "attachments": {},
   "cell_type": "markdown",
   "metadata": {},
   "source": [
    "### Q2.1 Which 3 regions had the highest per capita footprint of land use in 2019? (10 points)"
   ]
  },
  {
   "cell_type": "code",
   "execution_count": 9,
   "metadata": {
    "slideshow": {
     "slide_type": "slide"
    }
   },
   "outputs": [],
   "source": [
    "# Calculate the rest of MRIO variables\n",
    "I = np.identity(A.shape[0])\n",
    "L = np.linalg.inv(I-A)\n",
    "x = L @ Y.sum(axis=1)"
   ]
  },
  {
   "cell_type": "code",
   "execution_count": 10,
   "metadata": {
    "slideshow": {
     "slide_type": "slide"
    }
   },
   "outputs": [],
   "source": [
    "x_ = x.copy()\n",
    "x_[x_!=0] = 1/x_[x_!=0]\n",
    "inv_diag_x_ = np.diag(x_)"
   ]
  },
  {
   "cell_type": "code",
   "execution_count": 11,
   "metadata": {
    "slideshow": {
     "slide_type": "subslide"
    }
   },
   "outputs": [],
   "source": [
    "# Intensities of land use\n",
    "f_1 = F_1_ @ inv_diag_x_ "
   ]
  },
  {
   "cell_type": "code",
   "execution_count": 12,
   "metadata": {},
   "outputs": [],
   "source": [
    "Y_reg = Y.groupby(level=0, axis=1, sort=False).sum()"
   ]
  },
  {
   "cell_type": "code",
   "execution_count": 13,
   "metadata": {},
   "outputs": [],
   "source": [
    "e_1 = f_1 @ L @ Y_reg + F_1_hh.groupby(level=0, axis=0, sort=False).sum()"
   ]
  },
  {
   "cell_type": "code",
   "execution_count": 14,
   "metadata": {},
   "outputs": [
    {
     "data": {
      "text/plain": [
       "region\n",
       "LU    0.062014\n",
       "FI    0.035844\n",
       "AU    0.032664\n",
       "dtype: float64"
      ]
     },
     "execution_count": 14,
     "metadata": {},
     "output_type": "execute_result"
    }
   ],
   "source": [
    "e_1_pp = e_1/pp_2019.values\n",
    "e_1_pp.sort_values(ascending=False).head(3)"
   ]
  },
  {
   "attachments": {},
   "cell_type": "markdown",
   "metadata": {},
   "source": [
    "## Questions 3: Trade (15 points)"
   ]
  },
  {
   "attachments": {},
   "cell_type": "markdown",
   "metadata": {},
   "source": [
    "### Q3.1: Were the regions found in Q1 and Q2 net importers or net exporter of per capita land use in 2019? (3 points)"
   ]
  },
  {
   "cell_type": "code",
   "execution_count": 15,
   "metadata": {},
   "outputs": [],
   "source": [
    "identified_regions = [\"AU\", \"CA\", \"LV\", \"LU\", \"FI\", \"AU\"]"
   ]
  },
  {
   "cell_type": "code",
   "execution_count": 16,
   "metadata": {},
   "outputs": [
    {
     "data": {
      "text/plain": [
       "region\n",
       "LU    0.056432\n",
       "FI   -0.004770\n",
       "CA   -0.028109\n",
       "LV   -0.028546\n",
       "AU   -0.063048\n",
       "AU   -0.063048\n",
       "dtype: float64"
      ]
     },
     "execution_count": 16,
     "metadata": {},
     "output_type": "execute_result"
    }
   ],
   "source": [
    "# Insert here your calculations\n",
    "net_import = e_1_pp - F_1_pp.values\n",
    "net_import[identified_regions].sort_values(ascending=False)"
   ]
  },
  {
   "attachments": {},
   "cell_type": "markdown",
   "metadata": {},
   "source": [
    "All selected regions were net exporters per capita of land use except for Luxemburg which is a net importer"
   ]
  },
  {
   "attachments": {},
   "cell_type": "markdown",
   "metadata": {},
   "source": [
    "### Q3.2: Taking into account all exiobase regions, perform MRIO calculations and identify the top three regions that were net per capita importers of land use in 2019 (12 points)"
   ]
  },
  {
   "cell_type": "code",
   "execution_count": 17,
   "metadata": {},
   "outputs": [],
   "source": [
    "E_1 = np.diag(f_1) @ L @ Y_reg\n",
    "\n",
    "E_1.index = Y.index\n",
    "\n",
    "region_labels = Y.index.to_frame(index=False).region.unique()\n",
    "sector_labels = Y.index.to_frame(index=False).sector.unique()"
   ]
  },
  {
   "cell_type": "code",
   "execution_count": 18,
   "metadata": {},
   "outputs": [],
   "source": [
    "CBA_1 = E_1.sum(axis=0)\n",
    "PBA_1 = E_1.groupby(level=0, axis=0, sort=False).sum().sum(axis=1)"
   ]
  },
  {
   "cell_type": "code",
   "execution_count": 19,
   "metadata": {},
   "outputs": [
    {
     "data": {
      "text/plain": [
       "region\n",
       "LU    0.056432\n",
       "BE    0.016689\n",
       "TW    0.016242\n",
       "dtype: float64"
      ]
     },
     "execution_count": 19,
     "metadata": {},
     "output_type": "execute_result"
    }
   ],
   "source": [
    "trade_rel_1_pp = CBA_1/pp_2019.values - PBA_1/pp_2019.values\n",
    "\n",
    "trade_rel_1_pp_top3 = trade_rel_1_pp.sort_values(ascending=False).head(3)\n",
    "\n",
    "trade_rel_1_pp_top3"
   ]
  },
  {
   "attachments": {},
   "cell_type": "markdown",
   "metadata": {},
   "source": [
    "## Question 4: Dashboard analysis - Land Use vs. CO2 emissions (25 points)"
   ]
  },
  {
   "attachments": {},
   "cell_type": "markdown",
   "metadata": {},
   "source": [
    "### Q4.1 Identify global regions with the highest total land use and compare them to their CO2 emissions per capita and Land use per capita. (10 points)\n",
    "\n",
    "Hint 1: Replicate Qs 2-3 for CO2 emissions\n",
    "\n",
    "Hint 2: use the environmental extensions with keywords: \"CO2 - combustion - air\""
   ]
  },
  {
   "cell_type": "code",
   "execution_count": 20,
   "metadata": {},
   "outputs": [
    {
     "data": {
      "text/plain": [
       "region\n",
       "CN    1.501028e+07\n",
       "WF    1.456155e+07\n",
       "US    8.501668e+06\n",
       "dtype: float64"
      ]
     },
     "execution_count": 20,
     "metadata": {},
     "output_type": "execute_result"
    }
   ],
   "source": [
    "e_1.sort_values(ascending=False).head(3)"
   ]
  },
  {
   "cell_type": "code",
   "execution_count": 21,
   "metadata": {},
   "outputs": [],
   "source": [
    "second_indicator = \"CO2 - combustion - air\""
   ]
  },
  {
   "cell_type": "code",
   "execution_count": 22,
   "metadata": {},
   "outputs": [],
   "source": [
    "F_2 = F_sat.loc[F_sat.index.str.contains(second_indicator)].squeeze(axis=0)\n",
    "F_2_hh = F_sat_hh.loc[F_sat_hh.index.str.contains(second_indicator)].squeeze(axis=0)\n",
    "\n",
    "# Total territorial emissions\n",
    "F_2_tot_ter = F_2.groupby(level=0, axis=0, sort=False).sum() + F_2_hh.groupby(level=0, axis=0, sort=False).sum()"
   ]
  },
  {
   "cell_type": "code",
   "execution_count": 23,
   "metadata": {},
   "outputs": [],
   "source": [
    "# Intensities of CO2 emissions\n",
    "f_2 = F_2 @ inv_diag_x_ "
   ]
  },
  {
   "cell_type": "code",
   "execution_count": 24,
   "metadata": {},
   "outputs": [],
   "source": [
    "E_2 = np.diag(f_2) @ L @ Y_reg\n",
    "E_2.index = Y.index"
   ]
  },
  {
   "cell_type": "code",
   "execution_count": 25,
   "metadata": {},
   "outputs": [],
   "source": [
    "CBA_2 = E_2.sum(axis=0)\n",
    "PBA_2 = E_2.groupby(level=0, axis=0, sort=False).sum().sum(axis=1)"
   ]
  },
  {
   "cell_type": "code",
   "execution_count": 26,
   "metadata": {},
   "outputs": [
    {
     "data": {
      "text/plain": [
       "region\n",
       "CN    -648.196123\n",
       "WF     197.176026\n",
       "US    2179.502166\n",
       "dtype: float64"
      ]
     },
     "execution_count": 26,
     "metadata": {},
     "output_type": "execute_result"
    }
   ],
   "source": [
    "trade_rel_2_pp = CBA_2/pp_2019.values - PBA_2/pp_2019.values\n",
    "\n",
    "focus_regions_trade_pp_2 = trade_rel_2_pp.loc[[\"CN\",\"WF\", \"US\"]]\n",
    "focus_regions_trade_pp_2"
   ]
  },
  {
   "cell_type": "code",
   "execution_count": 27,
   "metadata": {},
   "outputs": [
    {
     "data": {
      "text/plain": [
       "region\n",
       "CN    0.003174\n",
       "WF   -0.001962\n",
       "US    0.003975\n",
       "dtype: float64"
      ]
     },
     "execution_count": 27,
     "metadata": {},
     "output_type": "execute_result"
    }
   ],
   "source": [
    "focus_regions_trade_pp_1 = trade_rel_1_pp.loc[[\"CN\",\"WF\", \"US\"]]\n",
    "focus_regions_trade_pp_1"
   ]
  },
  {
   "cell_type": "code",
   "execution_count": 28,
   "metadata": {},
   "outputs": [
    {
     "data": {
      "text/html": [
       "<div>\n",
       "<style scoped>\n",
       "    .dataframe tbody tr th:only-of-type {\n",
       "        vertical-align: middle;\n",
       "    }\n",
       "\n",
       "    .dataframe tbody tr th {\n",
       "        vertical-align: top;\n",
       "    }\n",
       "\n",
       "    .dataframe thead th {\n",
       "        text-align: right;\n",
       "    }\n",
       "</style>\n",
       "<table border=\"1\" class=\"dataframe\">\n",
       "  <thead>\n",
       "    <tr style=\"text-align: right;\">\n",
       "      <th></th>\n",
       "      <th>Land use Crop, Forest, Pasture - km2/PP</th>\n",
       "      <th>CO2 - combustion - air - kg CO2-ep/PP</th>\n",
       "    </tr>\n",
       "    <tr>\n",
       "      <th>region</th>\n",
       "      <th></th>\n",
       "      <th></th>\n",
       "    </tr>\n",
       "  </thead>\n",
       "  <tbody>\n",
       "    <tr>\n",
       "      <th>CN</th>\n",
       "      <td>0.003174</td>\n",
       "      <td>-648.196123</td>\n",
       "    </tr>\n",
       "    <tr>\n",
       "      <th>WF</th>\n",
       "      <td>-0.001962</td>\n",
       "      <td>197.176026</td>\n",
       "    </tr>\n",
       "    <tr>\n",
       "      <th>US</th>\n",
       "      <td>0.003975</td>\n",
       "      <td>2179.502166</td>\n",
       "    </tr>\n",
       "  </tbody>\n",
       "</table>\n",
       "</div>"
      ],
      "text/plain": [
       "        Land use Crop, Forest, Pasture - km2/PP  \\\n",
       "region                                            \n",
       "CN                                     0.003174   \n",
       "WF                                    -0.001962   \n",
       "US                                     0.003975   \n",
       "\n",
       "        CO2 - combustion - air - kg CO2-ep/PP  \n",
       "region                                         \n",
       "CN                                -648.196123  \n",
       "WF                                 197.176026  \n",
       "US                                2179.502166  "
      ]
     },
     "execution_count": 28,
     "metadata": {},
     "output_type": "execute_result"
    }
   ],
   "source": [
    "dashboard = pd.concat([focus_regions_trade_pp_1, focus_regions_trade_pp_2],axis=1)\n",
    "dashboard.columns = [first_indicator + \" - km2/PP\", second_indicator  + \" - kg CO2-ep/PP\"]\n",
    "dashboard"
   ]
  },
  {
   "attachments": {},
   "cell_type": "markdown",
   "metadata": {},
   "source": [
    "### Q4.2 Focusing on the two indicators, describe three significantly different findings about the main land use players of the world (15 points)\n",
    "\n",
    "The description for each finding should:\n",
    "\n",
    "1) be supported by numerical results you obtained from above calculations and based on comparisons of numerical results; \n",
    "\n",
    "2) contain your reflections about the land use stress and problems worldwide\n"
   ]
  },
  {
   "attachments": {},
   "cell_type": "markdown",
   "metadata": {},
   "source": [
    "_write your answer here_"
   ]
  }
 ],
 "metadata": {
  "celltoolbar": "Slideshow",
  "kernelspec": {
   "display_name": "Python 3 (ipykernel)",
   "language": "python",
   "name": "python3"
  },
  "language_info": {
   "codemirror_mode": {
    "name": "ipython",
    "version": 3
   },
   "file_extension": ".py",
   "mimetype": "text/x-python",
   "name": "python",
   "nbconvert_exporter": "python",
   "pygments_lexer": "ipython3",
   "version": "3.9.16"
  }
 },
 "nbformat": 4,
 "nbformat_minor": 4
}
